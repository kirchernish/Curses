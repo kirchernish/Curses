{
 "cells": [
  {
   "cell_type": "code",
   "execution_count": 13,
   "id": "e943fdc6-c6a2-48a9-8692-41196adac69c",
   "metadata": {
    "tags": []
   },
   "outputs": [],
   "source": [
    "import csv\n",
    "\n",
    "def load_csv(file_path):\n",
    "    with open(file_path, mode='r', encoding='utf-8') as file:\n",
    "        reader = csv.DictReader(file)\n",
    "        return list(reader)\n",
    "\n",
    "def parse_attributes(row):\n",
    "    return {\n",
    "        'name': row['name'],\n",
    "        'sex': row['sex'],\n",
    "        'age': row['age'],\n",
    "        'device': row['device_type'],\n",
    "        'browser': row['browser'],\n",
    "        'amount': row['bill'],\n",
    "        'region': row['region']\n",
    "    }\n",
    "\n",
    "def format_description(attributes):\n",
    "    desc_name = f\"Пользователь {attributes['name']} \"\n",
    "    if attributes['sex'] == 'male':\n",
    "        desc_sex = f\"мужского пола, {attributes['age']} лет \"\n",
    "        desc_amount = f\"соверишл покупку на {attributes['amount']} у.е. \"\n",
    "    if attributes['sex'] == 'female':\n",
    "        desc_sex = f\"женского пола, {attributes['age']} лет \"\n",
    "        desc_amount = f\"соверишла покупку на {attributes['amount']} у.е. \"\n",
    "    if attributes['device'] == 'mobile' or attributes['device'] == 'tablet':\n",
    "        desc_device = f\"с мобильного браузера {attributes['browser']}. \"\n",
    "    if attributes['device'] == 'desktop' or attributes['device'] == 'laptop':\n",
    "        desc_device = f\"с браузера {attributes['browser']}. \"\n",
    "    if attributes['region'] != '-':\n",
    "        desc_region = f\"Регион, из которого совершалась покупка: {attributes['region']}.\"\n",
    "    if attributes['region'] == '-':\n",
    "        desc_region = f\"Регион, из которого совершалась покупка: Неизвестно.\"\n",
    "    return (desc_name + desc_sex + desc_amount + desc_device + desc_region)\n",
    "\n",
    "def write_to_txt(descriptions, output_file):\n",
    "    with open(output_file, mode='w', encoding='utf-8') as file:\n",
    "        for description in descriptions:\n",
    "            file.write(description + '\\n')\n",
    "\n",
    "def main(input_file, output_file):\n",
    "    rows = load_csv(input_file)\n",
    "    descriptions = [format_description(parse_attributes(row)) for row in rows]\n",
    "    write_to_txt(descriptions, output_file)\n",
    "\n",
    "if __name__ == \"__main__\":\n",
    "    main('web_clients_correct.csv', 'output.txt')\n"
   ]
  },
  {
   "cell_type": "code",
   "execution_count": null,
   "id": "252523e5-2466-4382-98b1-fcd28adf7729",
   "metadata": {},
   "outputs": [],
   "source": []
  }
 ],
 "metadata": {
  "kernelspec": {
   "display_name": "Python 3",
   "language": "python",
   "name": "python3"
  },
  "language_info": {
   "codemirror_mode": {
    "name": "ipython",
    "version": 3
   },
   "file_extension": ".py",
   "mimetype": "text/x-python",
   "name": "python",
   "nbconvert_exporter": "python",
   "pygments_lexer": "ipython3",
   "version": "3.7.2"
  }
 },
 "nbformat": 4,
 "nbformat_minor": 5
}
